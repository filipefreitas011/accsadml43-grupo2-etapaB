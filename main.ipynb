{
 "cells": [
  {
   "cell_type": "code",
   "execution_count": 2,
   "metadata": {},
   "outputs": [],
   "source": [
    "import pandas as pd\n",
    "import numpy as np\n",
    "import matplotlib.pyplot as plt\n",
    "import seaborn as sns\n",
    "\n",
    "import sklearn\n",
    "\n",
    "import warnings\n",
    "warnings.filterwarnings('ignore', category=UserWarning, module='openpyxl')"
   ]
  },
  {
   "cell_type": "markdown",
   "metadata": {},
   "source": [
    "# 1. Avaliando dataset 1 (30 colunas)"
   ]
  },
  {
   "cell_type": "code",
   "execution_count": 3,
   "metadata": {},
   "outputs": [],
   "source": [
    "X_train = pd.read_csv(\"X_train_1.csv\")\n",
    "X_val = pd.read_csv(\"X_val_1.csv\")\n",
    "Y_train = pd.read_csv(\"Y_train_1.csv\")\n",
    "Y_val = pd.read_csv(\"Y_val_1.csv\")"
   ]
  },
  {
   "cell_type": "code",
   "execution_count": 4,
   "metadata": {},
   "outputs": [
    {
     "name": "stderr",
     "output_type": "stream",
     "text": [
      "/usr/lib/python3/dist-packages/sklearn/neighbors/_classification.py:215: DataConversionWarning: A column-vector y was passed when a 1d array was expected. Please change the shape of y to (n_samples,), for example using ravel().\n",
      "  return self._fit(X, y)\n"
     ]
    },
    {
     "name": "stdout",
     "output_type": "stream",
     "text": [
      "Acurácia 0.5796835212804656\n",
      "Precisão: 0.5694069302215815\n",
      "Recall: 0.5712204767731495\n",
      "F1-score: 0.569341565515675\n"
     ]
    }
   ],
   "source": [
    "# K-Nearest Neighbors (KNN)\n",
    "# Número de Vizinhos (K): Comece com K=5, podendo ser ajustado por meio de validação cruzada.\n",
    "# Métrica de Distância: Euclidiana.\n",
    "# Peso das amostras: Uniforme.\n",
    "\n",
    "from sklearn.neighbors import KNeighborsClassifier\n",
    "from sklearn.metrics import accuracy_score, precision_score, recall_score, f1_score\n",
    "\n",
    "knn_final = KNeighborsClassifier(n_neighbors=5, metric='euclidean', weights='uniform')\n",
    "knn_final.fit(X_train, Y_train)\n",
    "\n",
    "knn_pred = knn_final.predict(X_val)\n",
    "acurácia_knn = accuracy_score(Y_val, knn_pred)\n",
    "p_knn = precision_score(Y_val, knn_pred, average='macro')\n",
    "r_knn = recall_score(Y_val, knn_pred, average='macro')\n",
    "f1_knn = f1_score(Y_val, knn_pred, average='macro')\n",
    "\n",
    "print(\"Acurácia\", acurácia_knn)\n",
    "print(\"Precisão:\", p_knn)\n",
    "print(\"Recall:\", r_knn)\n",
    "print(\"F1-score:\", f1_knn)"
   ]
  },
  {
   "cell_type": "code",
   "execution_count": 5,
   "metadata": {},
   "outputs": [
    {
     "name": "stdout",
     "output_type": "stream",
     "text": [
      "Acurácia 0.6173062931975264\n",
      "Precisão: 0.5911376470648664\n",
      "Recall: 0.5652295959779955\n",
      "F1-score: 0.5539525887537015\n"
     ]
    }
   ],
   "source": [
    "# Árvore de Decisão\n",
    "# Critério de Divisão: Entropia\n",
    "# Profundidade Máxima: Sem limite inicial, ajustável com validação cruzada\n",
    "# Número Mínimo de Amostras para Divisão de um Nó: 2.\n",
    "# Número Mínimo de Amostras em um Nó Folha: 1\n",
    "\n",
    "from sklearn import tree\n",
    "\n",
    "clfArvore_final = tree.DecisionTreeClassifier(max_depth = 12, criterion='entropy', min_samples_split=2, min_samples_leaf=1)\n",
    "clfArvore_final.fit(X_train, Y_train)\n",
    "\n",
    "clfArvore_pred = clfArvore_final.predict(X_val)\n",
    "acurácia_clfArvore = accuracy_score(Y_val, clfArvore_pred)\n",
    "p_clfArvore = precision_score(Y_val, clfArvore_pred, average='macro')\n",
    "r_clfArvore = recall_score(Y_val, clfArvore_pred, average='macro')\n",
    "f1_clfArvore = f1_score(Y_val, clfArvore_pred, average='macro')\n",
    "\n",
    "print(\"Acurácia\", acurácia_clfArvore)\n",
    "print(\"Precisão:\", p_clfArvore)\n",
    "print(\"Recall:\", r_clfArvore)\n",
    "print(\"F1-score:\", f1_clfArvore)"
   ]
  },
  {
   "cell_type": "code",
   "execution_count": 6,
   "metadata": {},
   "outputs": [
    {
     "name": "stderr",
     "output_type": "stream",
     "text": [
      "/usr/lib/python3/dist-packages/sklearn/utils/validation.py:1143: DataConversionWarning: A column-vector y was passed when a 1d array was expected. Please change the shape of y to (n_samples, ), for example using ravel().\n",
      "  y = column_or_1d(y, warn=True)\n"
     ]
    },
    {
     "name": "stdout",
     "output_type": "stream",
     "text": [
      "Acurácia 0.6117588213895963\n",
      "Precisão: 0.5830679362965743\n",
      "Recall: 0.5534868240699425\n",
      "F1-score: 0.5350115508622681\n"
     ]
    }
   ],
   "source": [
    "from sklearn.linear_model import LogisticRegression\n",
    "\n",
    "clfLog = LogisticRegression(solver='lbfgs', penalty='l2', max_iter=100)\n",
    "\n",
    "clfLog.fit(X_train, Y_train)\n",
    "\n",
    "clfLog_pred = clfLog.predict(X_val)\n",
    "acurácia_clfLog = accuracy_score(Y_val, clfLog_pred)\n",
    "p_clfLog = precision_score(Y_val, clfLog_pred, average='macro')\n",
    "r_clfLog = recall_score(Y_val, clfLog_pred, average='macro')\n",
    "f1_clfLog = f1_score(Y_val, clfLog_pred, average='macro')\n",
    "\n",
    "print(\"Acurácia\", acurácia_clfLog)\n",
    "print(\"Precisão:\", p_clfLog)\n",
    "print(\"Recall:\", r_clfLog)\n",
    "print(\"F1-score:\", f1_clfLog)\n"
   ]
  },
  {
   "cell_type": "code",
   "execution_count": 7,
   "metadata": {},
   "outputs": [
    {
     "name": "stderr",
     "output_type": "stream",
     "text": [
      "/tmp/ipykernel_3625/2634598095.py:5: DataConversionWarning: A column-vector y was passed when a 1d array was expected. Please change the shape of y to (n_samples,), for example using ravel().\n",
      "  rfc.fit(X_train, Y_train)\n"
     ]
    },
    {
     "name": "stdout",
     "output_type": "stream",
     "text": [
      "Acurácia 0.6167879228810477\n",
      "Precisão: 0.5903881259943156\n",
      "Recall: 0.5683232182750267\n",
      "F1-score: 0.5600909735570844\n"
     ]
    }
   ],
   "source": [
    "from sklearn.ensemble import RandomForestClassifier\n",
    "\n",
    "rfc = RandomForestClassifier(n_estimators=100, criterion='entropy')\n",
    "\n",
    "rfc.fit(X_train, Y_train)\n",
    "\n",
    "rfc_pred = rfc.predict(X_val)\n",
    "acurácia_rfc = accuracy_score(Y_val, rfc_pred)\n",
    "p_rfc = precision_score(Y_val, rfc_pred, average='macro')\n",
    "r_rfc = recall_score(Y_val, rfc_pred, average='macro')\n",
    "f1_rfc = f1_score(Y_val, rfc_pred, average='macro')\n",
    "\n",
    "print(\"Acurácia\", acurácia_rfc)\n",
    "print(\"Precisão:\", p_rfc)\n",
    "print(\"Recall:\", r_rfc)\n",
    "print(\"F1-score:\", f1_rfc)"
   ]
  },
  {
   "cell_type": "code",
   "execution_count": 8,
   "metadata": {},
   "outputs": [
    {
     "name": "stderr",
     "output_type": "stream",
     "text": [
      "/usr/lib/python3/dist-packages/sklearn/neural_network/_multilayer_perceptron.py:1096: DataConversionWarning: A column-vector y was passed when a 1d array was expected. Please change the shape of y to (n_samples, ), for example using ravel().\n",
      "  y = column_or_1d(y, warn=True)\n"
     ]
    },
    {
     "name": "stdout",
     "output_type": "stream",
     "text": [
      "Acurácia 0.6188614041469626\n",
      "Precisão: 0.6002628588110275\n",
      "Recall: 0.5508279734346471\n",
      "F1-score: 0.5189833376744089\n"
     ]
    }
   ],
   "source": [
    "# Rede Neural (Multilayer Perceptron - MLP).\n",
    "# Número de Camadas Ocultas: 2 camadas.\n",
    "# Número de Neurônios em Cada Camada Oculta: 100 neurônios.\n",
    "# Função de Ativação: ReLU.\n",
    "# Solver (Algoritmo de Otimização): Adam.\n",
    "# Taxa de Aprendizado: 0.001.\n",
    "# Número de Épocas: 200.\n",
    "# Tamanho do Lote: 32.\n",
    "\n",
    "from sklearn.neural_network import MLPClassifier\n",
    "\n",
    "mlp = MLPClassifier(hidden_layer_sizes=(100, 100), activation='relu', solver='adam', learning_rate_init=0.001, max_iter=200, batch_size=32)\n",
    "\n",
    "mlp.fit(X_train, Y_train)\n",
    "\n",
    "mlp_pred = mlp.predict(X_val)\n",
    "acurácia_mlp = accuracy_score(Y_val, mlp_pred)\n",
    "p_mlp = precision_score(Y_val, mlp_pred, average='macro')\n",
    "r_mlp = recall_score(Y_val, mlp_pred, average='macro')\n",
    "f1_mlp = f1_score(Y_val, mlp_pred, average='macro')\n",
    "\n",
    "print(\"Acurácia\", acurácia_mlp)\n",
    "print(\"Precisão:\", p_mlp)\n",
    "print(\"Recall:\", r_mlp)\n",
    "print(\"F1-score:\", f1_mlp)\n"
   ]
  },
  {
   "cell_type": "markdown",
   "metadata": {},
   "source": [
    "# 2. Avaliando dataset 1 (30 colunas)"
   ]
  },
  {
   "cell_type": "code",
   "execution_count": 33,
   "metadata": {},
   "outputs": [],
   "source": [
    "X_train_2 = pd.read_csv(\"X_train_2.csv\")\n",
    "X_val_2 = pd.read_csv(\"X_val_2.csv\")\n",
    "Y_train_2 = pd.read_csv(\"Y_train_2.csv\", header=None)\n",
    "Y_val_2 = pd.read_csv(\"Y_val_2.csv\", header=None)"
   ]
  },
  {
   "cell_type": "code",
   "execution_count": 34,
   "metadata": {},
   "outputs": [
    {
     "name": "stderr",
     "output_type": "stream",
     "text": [
      "/usr/lib/python3/dist-packages/sklearn/neighbors/_classification.py:215: DataConversionWarning: A column-vector y was passed when a 1d array was expected. Please change the shape of y to (n_samples,), for example using ravel().\n",
      "  return self._fit(X, y)\n"
     ]
    },
    {
     "name": "stdout",
     "output_type": "stream",
     "text": [
      "Acurácia 0.9170971262277192\n",
      "Precisão: 0.9156847786769362\n",
      "Recall: 0.9113436781428392\n",
      "F1-score: 0.913363173628315\n"
     ]
    }
   ],
   "source": [
    "# K-Nearest Neighbors (KNN)\n",
    "# Número de Vizinhos (K): Comece com K=5, podendo ser ajustado por meio de validação cruzada.\n",
    "# Métrica de Distância: Euclidiana.\n",
    "# Peso das amostras: Uniforme.\n",
    "\n",
    "from sklearn.neighbors import KNeighborsClassifier\n",
    "from sklearn.metrics import accuracy_score, precision_score, recall_score, f1_score\n",
    "\n",
    "knn_final_2 = KNeighborsClassifier(n_neighbors=5, metric='euclidean', weights='uniform')\n",
    "knn_final_2.fit(X_train_2, Y_train_2)\n",
    "\n",
    "knn_pred_2 = knn_final_2.predict(X_val_2)\n",
    "acurácia_knn_2 = accuracy_score(Y_val_2, knn_pred_2)\n",
    "p_knn_2 = precision_score(Y_val_2, knn_pred_2, average='macro')\n",
    "r_knn_2 = recall_score(Y_val_2, knn_pred_2, average='macro')\n",
    "f1_knn_2 = f1_score(Y_val_2, knn_pred_2, average='macro')\n",
    "\n",
    "print(\"Acurácia\", acurácia_knn_2)\n",
    "print(\"Precisão:\", p_knn_2)\n",
    "print(\"Recall:\", r_knn_2)\n",
    "print(\"F1-score:\", f1_knn_2)"
   ]
  },
  {
   "cell_type": "code",
   "execution_count": 37,
   "metadata": {},
   "outputs": [
    {
     "name": "stdout",
     "output_type": "stream",
     "text": [
      "Acurácia 0.9338032011640597\n",
      "Precisão: 0.9345367450574258\n",
      "Recall: 0.9274399712758483\n",
      "F1-score: 0.93063024144369\n"
     ]
    }
   ],
   "source": [
    "# Árvore de Decisão\n",
    "# Critério de Divisão: Entropia\n",
    "# Profundidade Máxima: Sem limite inicial, ajustável com validação cruzada\n",
    "# Número Mínimo de Amostras para Divisão de um Nó: 2.\n",
    "# Número Mínimo de Amostras em um Nó Folha: 1\n",
    "\n",
    "from sklearn import tree\n",
    "\n",
    "clfArvore_final_2 = tree.DecisionTreeClassifier(max_depth = 12, criterion='entropy', min_samples_split=2, min_samples_leaf=1)\n",
    "clfArvore_final_2.fit(X_train_2, Y_train_2)\n",
    "\n",
    "clfArvore_pred_2 = clfArvore_final_2.predict(X_val_2)\n",
    "acurácia_clfArvore_2 = accuracy_score(Y_val_2, clfArvore_pred_2)\n",
    "p_clfArvore_2 = precision_score(Y_val_2, clfArvore_pred_2, average='macro')\n",
    "r_clfArvore_2 = recall_score(Y_val_2, clfArvore_pred_2, average='macro')\n",
    "f1_clfArvore_2 = f1_score(Y_val_2, clfArvore_pred_2, average='macro')\n",
    "\n",
    "print(\"Acurácia\", acurácia_clfArvore_2)\n",
    "print(\"Precisão:\", p_clfArvore_2)\n",
    "print(\"Recall:\", r_clfArvore_2)\n",
    "print(\"F1-score:\", f1_clfArvore_2)"
   ]
  },
  {
   "cell_type": "code",
   "execution_count": 39,
   "metadata": {},
   "outputs": [
    {
     "name": "stderr",
     "output_type": "stream",
     "text": [
      "/usr/lib/python3/dist-packages/sklearn/utils/validation.py:1143: DataConversionWarning: A column-vector y was passed when a 1d array was expected. Please change the shape of y to (n_samples, ), for example using ravel().\n",
      "  y = column_or_1d(y, warn=True)\n",
      "/usr/lib/python3/dist-packages/sklearn/linear_model/_logistic.py:458: ConvergenceWarning: lbfgs failed to converge (status=1):\n",
      "STOP: TOTAL NO. of ITERATIONS REACHED LIMIT.\n",
      "\n",
      "Increase the number of iterations (max_iter) or scale the data as shown in:\n",
      "    https://scikit-learn.org/stable/modules/preprocessing.html\n",
      "Please also refer to the documentation for alternative solver options:\n",
      "    https://scikit-learn.org/stable/modules/linear_model.html#logistic-regression\n",
      "  n_iter_i = _check_optimize_result(\n"
     ]
    },
    {
     "name": "stdout",
     "output_type": "stream",
     "text": [
      "Acurácia 0.8743452164423426\n",
      "Precisão: 0.8762071464933217\n",
      "Recall: 0.8610010697225714\n",
      "F1-score: 0.8668949331651951\n"
     ]
    }
   ],
   "source": [
    "from sklearn.linear_model import LogisticRegression\n",
    "\n",
    "clfLog_2 = LogisticRegression(solver='lbfgs', penalty='l2', max_iter=100)\n",
    "\n",
    "clfLog_2.fit(X_train_2, Y_train_2)\n",
    "\n",
    "clfLog_pred_2 = clfLog_2.predict(X_val_2)\n",
    "acurácia_clfLog_2 = accuracy_score(Y_val_2, clfLog_pred_2)\n",
    "p_clfLog_2 = precision_score(Y_val_2, clfLog_pred_2, average='macro')\n",
    "r_clfLog_2 = recall_score(Y_val_2, clfLog_pred_2, average='macro')\n",
    "f1_clfLog_2 = f1_score(Y_val_2, clfLog_pred_2, average='macro')\n",
    "\n",
    "print(\"Acurácia\", acurácia_clfLog_2)\n",
    "print(\"Precisão:\", p_clfLog_2)\n",
    "print(\"Recall:\", r_clfLog_2)\n",
    "print(\"F1-score:\", f1_clfLog_2)\n"
   ]
  },
  {
   "cell_type": "code",
   "execution_count": 40,
   "metadata": {},
   "outputs": [
    {
     "name": "stderr",
     "output_type": "stream",
     "text": [
      "/tmp/ipykernel_3625/2032978182.py:5: DataConversionWarning: A column-vector y was passed when a 1d array was expected. Please change the shape of y to (n_samples,), for example using ravel().\n",
      "  rfc_2.fit(X_train_2, Y_train_2)\n"
     ]
    },
    {
     "name": "stdout",
     "output_type": "stream",
     "text": [
      "Acurácia 0.9680974899963624\n",
      "Precisão: 0.9671404898119234\n",
      "Recall: 0.9664783696172685\n",
      "F1-score: 0.9668061915444277\n"
     ]
    }
   ],
   "source": [
    "from sklearn.ensemble import RandomForestClassifier\n",
    "\n",
    "rfc_2 = RandomForestClassifier(n_estimators=100, criterion='entropy')\n",
    "\n",
    "rfc_2.fit(X_train_2, Y_train_2)\n",
    "\n",
    "rfc_pred_2 = rfc_2.predict(X_val_2)\n",
    "acurácia_rfc_2 = accuracy_score(Y_val_2, rfc_pred_2)\n",
    "p_rfc_2 = precision_score(Y_val_2, rfc_pred_2, average='macro')\n",
    "r_rfc_2 = recall_score(Y_val_2, rfc_pred_2, average='macro')\n",
    "f1_rfc_2 = f1_score(Y_val_2, rfc_pred_2, average='macro')\n",
    "\n",
    "print(\"Acurácia\", acurácia_rfc_2)\n",
    "print(\"Precisão:\", p_rfc_2)\n",
    "print(\"Recall:\", r_rfc_2)\n",
    "print(\"F1-score:\", f1_rfc_2)"
   ]
  },
  {
   "cell_type": "code",
   "execution_count": 41,
   "metadata": {},
   "outputs": [
    {
     "name": "stderr",
     "output_type": "stream",
     "text": [
      "/usr/lib/python3/dist-packages/sklearn/neural_network/_multilayer_perceptron.py:1096: DataConversionWarning: A column-vector y was passed when a 1d array was expected. Please change the shape of y to (n_samples, ), for example using ravel().\n",
      "  y = column_or_1d(y, warn=True)\n"
     ]
    },
    {
     "name": "stdout",
     "output_type": "stream",
     "text": [
      "Acurácia 0.9483175700254638\n",
      "Precisão: 0.9482762986095652\n",
      "Recall: 0.9440137895655316\n",
      "F1-score: 0.9460138019067288\n"
     ]
    }
   ],
   "source": [
    "# Rede Neural (Multilayer Perceptron - MLP).\n",
    "# Número de Camadas Ocultas: 2 camadas.\n",
    "# Número de Neurônios em Cada Camada Oculta: 100 neurônios.\n",
    "# Função de Ativação: ReLU.\n",
    "# Solver (Algoritmo de Otimização): Adam.\n",
    "# Taxa de Aprendizado: 0.001.\n",
    "# Número de Épocas: 200.\n",
    "# Tamanho do Lote: 32.\n",
    "\n",
    "from sklearn.neural_network import MLPClassifier\n",
    "\n",
    "mlp_2 = MLPClassifier(hidden_layer_sizes=(100, 100), activation='relu', solver='adam', learning_rate_init=0.001, max_iter=200, batch_size=32)\n",
    "\n",
    "mlp_2.fit(X_train_2, Y_train_2)\n",
    "\n",
    "mlp_pred_2 = mlp_2.predict(X_val_2)\n",
    "acurácia_mlp_2 = accuracy_score(Y_val_2, mlp_pred_2)\n",
    "p_mlp_2 = precision_score(Y_val_2, mlp_pred_2, average='macro')\n",
    "r_mlp_2 = recall_score(Y_val_2, mlp_pred_2, average='macro')\n",
    "f1_mlp_2 = f1_score(Y_val_2, mlp_pred_2, average='macro')\n",
    "\n",
    "print(\"Acurácia\", acurácia_mlp_2)\n",
    "print(\"Precisão:\", p_mlp_2)\n",
    "print(\"Recall:\", r_mlp_2)\n",
    "print(\"F1-score:\", f1_mlp_2)\n"
   ]
  },
  {
   "cell_type": "code",
   "execution_count": null,
   "metadata": {},
   "outputs": [],
   "source": []
  }
 ],
 "metadata": {
  "kernelspec": {
   "display_name": "Python 3",
   "language": "python",
   "name": "python3"
  },
  "language_info": {
   "codemirror_mode": {
    "name": "ipython",
    "version": 3
   },
   "file_extension": ".py",
   "mimetype": "text/x-python",
   "name": "python",
   "nbconvert_exporter": "python",
   "pygments_lexer": "ipython3",
   "version": "3.11.2"
  }
 },
 "nbformat": 4,
 "nbformat_minor": 2
}
